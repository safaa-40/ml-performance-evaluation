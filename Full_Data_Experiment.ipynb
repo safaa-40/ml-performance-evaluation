{
  "nbformat": 4,
  "nbformat_minor": 0,
  "metadata": {
    "colab": {
      "provenance": []
    },
    "kernelspec": {
      "name": "python3",
      "display_name": "Python 3"
    },
    "language_info": {
      "name": "python"
    }
  },
  "cells": [
    {
      "cell_type": "code",
      "metadata": {
        "id": "dRBJhnfFNx-b",
        "colab": {
          "base_uri": "https://localhost:8080/"
        },
        "outputId": "afbf6848-4d84-452c-f738-cd6e7fcaa25d"
      },
      "source": [
        "import pandas as pd\n",
        "import numpy as np\n",
        "import matplotlib.pyplot as plt\n",
        "import seaborn as sns\n",
        "\n",
        "from sklearn.linear_model import LogisticRegression\n",
        "from sklearn.metrics import accuracy_score, precision_score, recall_score\n",
        "from sklearn.utils import shuffle\n",
        "from sklearn.model_selection import train_test_split\n",
        "from sklearn.preprocessing import MinMaxScaler\n",
        "from sklearn.decomposition import PCA\n",
        "from sklearn.preprocessing import StandardScaler\n",
        "\n",
        "\n",
        "import pickle # To save the model\n",
        "from functools import partial\n",
        "import random\n",
        "\n",
        "\n",
        "\n",
        "# The following is to be able to mount Google Drive\n",
        "from google.colab import drive\n",
        "\n",
        "\n",
        "# We import a function I prepared for you in the course library\n",
        "! wget https://raw.githubusercontent.com/andreaaraldo/machine-learning-for-networks/master/course_library/visualization.py\n",
        "from visualization import plot_conf_mat\n",
        "\n",
        "\n",
        "from typing import List\n",
        "\n",
        "import tensorflow as tf\n",
        "import tensorflow.keras as keras\n",
        "from tensorflow.keras.layers import Dense\n",
        "from tensorflow.keras.models import Sequential, load_model\n",
        "from tensorflow.keras.utils import plot_model\n",
        "from tensorflow.keras.callbacks import ModelCheckpoint, CSVLogger\n",
        "\n",
        "\n",
        "# The following library is to plot the loss during training\n",
        "# https://github.com/stared/livelossplot\n",
        "! pip install livelossplot\n",
        "from livelossplot import PlotLossesKerasTF\n",
        "\n",
        "\n",
        "import os\n",
        "from os.path import isfile"
      ],
      "execution_count": null,
      "outputs": [
        {
          "output_type": "stream",
          "name": "stdout",
          "text": [
            "--2024-03-18 09:52:59--  https://raw.githubusercontent.com/andreaaraldo/machine-learning-for-networks/master/course_library/visualization.py\n",
            "Resolving raw.githubusercontent.com (raw.githubusercontent.com)... 185.199.108.133, 185.199.111.133, 185.199.109.133, ...\n",
            "Connecting to raw.githubusercontent.com (raw.githubusercontent.com)|185.199.108.133|:443... connected.\n",
            "HTTP request sent, awaiting response... 200 OK\n",
            "Length: 13023 (13K) [text/plain]\n",
            "Saving to: ‘visualization.py’\n",
            "\n",
            "\rvisualization.py      0%[                    ]       0  --.-KB/s               \rvisualization.py    100%[===================>]  12.72K  --.-KB/s    in 0s      \n",
            "\n",
            "2024-03-18 09:52:59 (96.6 MB/s) - ‘visualization.py’ saved [13023/13023]\n",
            "\n",
            "Collecting livelossplot\n",
            "  Downloading livelossplot-0.5.5-py3-none-any.whl (22 kB)\n",
            "Requirement already satisfied: matplotlib in /usr/local/lib/python3.10/dist-packages (from livelossplot) (3.7.1)\n",
            "Requirement already satisfied: bokeh in /usr/local/lib/python3.10/dist-packages (from livelossplot) (3.3.4)\n",
            "Requirement already satisfied: Jinja2>=2.9 in /usr/local/lib/python3.10/dist-packages (from bokeh->livelossplot) (3.1.3)\n",
            "Requirement already satisfied: contourpy>=1 in /usr/local/lib/python3.10/dist-packages (from bokeh->livelossplot) (1.2.0)\n",
            "Requirement already satisfied: numpy>=1.16 in /usr/local/lib/python3.10/dist-packages (from bokeh->livelossplot) (1.25.2)\n",
            "Requirement already satisfied: packaging>=16.8 in /usr/local/lib/python3.10/dist-packages (from bokeh->livelossplot) (24.0)\n",
            "Requirement already satisfied: pandas>=1.2 in /usr/local/lib/python3.10/dist-packages (from bokeh->livelossplot) (1.5.3)\n",
            "Requirement already satisfied: pillow>=7.1.0 in /usr/local/lib/python3.10/dist-packages (from bokeh->livelossplot) (9.4.0)\n",
            "Requirement already satisfied: PyYAML>=3.10 in /usr/local/lib/python3.10/dist-packages (from bokeh->livelossplot) (6.0.1)\n",
            "Requirement already satisfied: tornado>=5.1 in /usr/local/lib/python3.10/dist-packages (from bokeh->livelossplot) (6.3.3)\n",
            "Requirement already satisfied: xyzservices>=2021.09.1 in /usr/local/lib/python3.10/dist-packages (from bokeh->livelossplot) (2023.10.1)\n",
            "Requirement already satisfied: cycler>=0.10 in /usr/local/lib/python3.10/dist-packages (from matplotlib->livelossplot) (0.12.1)\n",
            "Requirement already satisfied: fonttools>=4.22.0 in /usr/local/lib/python3.10/dist-packages (from matplotlib->livelossplot) (4.49.0)\n",
            "Requirement already satisfied: kiwisolver>=1.0.1 in /usr/local/lib/python3.10/dist-packages (from matplotlib->livelossplot) (1.4.5)\n",
            "Requirement already satisfied: pyparsing>=2.3.1 in /usr/local/lib/python3.10/dist-packages (from matplotlib->livelossplot) (3.1.2)\n",
            "Requirement already satisfied: python-dateutil>=2.7 in /usr/local/lib/python3.10/dist-packages (from matplotlib->livelossplot) (2.8.2)\n",
            "Requirement already satisfied: MarkupSafe>=2.0 in /usr/local/lib/python3.10/dist-packages (from Jinja2>=2.9->bokeh->livelossplot) (2.1.5)\n",
            "Requirement already satisfied: pytz>=2020.1 in /usr/local/lib/python3.10/dist-packages (from pandas>=1.2->bokeh->livelossplot) (2023.4)\n",
            "Requirement already satisfied: six>=1.5 in /usr/local/lib/python3.10/dist-packages (from python-dateutil>=2.7->matplotlib->livelossplot) (1.16.0)\n",
            "Installing collected packages: livelossplot\n",
            "Successfully installed livelossplot-0.5.5\n"
          ]
        }
      ]
    },
    {
      "cell_type": "markdown",
      "metadata": {
        "id": "J6CXPBcNbnOp"
      },
      "source": [
        "# Download the dataset and train/test split"
      ]
    },
    {
      "cell_type": "markdown",
      "metadata": {
        "id": "iUWKkvOYXik2"
      },
      "source": [
        "Load the dataset"
      ]
    },
    {
      "cell_type": "code",
      "metadata": {
        "id": "m10tUo-bXkli",
        "colab": {
          "base_uri": "https://localhost:8080/"
        },
        "outputId": "32eb4715-61c7-4e3b-9932-a679364af441"
      },
      "source": [
        "! wget https://raw.githubusercontent.com/andreaaraldo/machine-learning-for-networks/master/9x.ml_highspeed_networks/lowdataset.csv\n",
        "! wget https://raw.githubusercontent.com/andreaaraldo/machine-learning-for-networks/master/9x.ml_highspeed_networks/highdataset.csv\n",
        "! wget https://raw.githubusercontent.com/andreaaraldo/machine-learning-for-networks/master/9x.ml_highspeed_networks/fulldataset.csv\n"
      ],
      "execution_count": null,
      "outputs": [
        {
          "output_type": "stream",
          "name": "stdout",
          "text": [
            "--2024-03-18 09:53:11--  https://raw.githubusercontent.com/andreaaraldo/machine-learning-for-networks/master/9x.ml_highspeed_networks/lowdataset.csv\n",
            "Resolving raw.githubusercontent.com (raw.githubusercontent.com)... 185.199.108.133, 185.199.109.133, 185.199.110.133, ...\n",
            "Connecting to raw.githubusercontent.com (raw.githubusercontent.com)|185.199.108.133|:443... connected.\n",
            "HTTP request sent, awaiting response... 200 OK\n",
            "Length: 261162 (255K) [text/plain]\n",
            "Saving to: ‘lowdataset.csv’\n",
            "\n",
            "lowdataset.csv      100%[===================>] 255.04K  --.-KB/s    in 0.04s   \n",
            "\n",
            "2024-03-18 09:53:11 (6.59 MB/s) - ‘lowdataset.csv’ saved [261162/261162]\n",
            "\n",
            "--2024-03-18 09:53:12--  https://raw.githubusercontent.com/andreaaraldo/machine-learning-for-networks/master/9x.ml_highspeed_networks/highdataset.csv\n",
            "Resolving raw.githubusercontent.com (raw.githubusercontent.com)... 185.199.110.133, 185.199.109.133, 185.199.111.133, ...\n",
            "Connecting to raw.githubusercontent.com (raw.githubusercontent.com)|185.199.110.133|:443... connected.\n",
            "HTTP request sent, awaiting response... 200 OK\n",
            "Length: 267387 (261K) [text/plain]\n",
            "Saving to: ‘highdataset.csv’\n",
            "\n",
            "highdataset.csv     100%[===================>] 261.12K  --.-KB/s    in 0.03s   \n",
            "\n",
            "2024-03-18 09:53:12 (7.49 MB/s) - ‘highdataset.csv’ saved [267387/267387]\n",
            "\n",
            "--2024-03-18 09:53:12--  https://raw.githubusercontent.com/andreaaraldo/machine-learning-for-networks/master/9x.ml_highspeed_networks/fulldataset.csv\n",
            "Resolving raw.githubusercontent.com (raw.githubusercontent.com)... 185.199.110.133, 185.199.111.133, 185.199.109.133, ...\n",
            "Connecting to raw.githubusercontent.com (raw.githubusercontent.com)|185.199.110.133|:443... connected.\n",
            "HTTP request sent, awaiting response... 200 OK\n",
            "Length: 1686836 (1.6M) [text/plain]\n",
            "Saving to: ‘fulldataset.csv’\n",
            "\n",
            "fulldataset.csv     100%[===================>]   1.61M  --.-KB/s    in 0.06s   \n",
            "\n",
            "2024-03-18 09:53:12 (27.1 MB/s) - ‘fulldataset.csv’ saved [1686836/1686836]\n",
            "\n"
          ]
        }
      ]
    },
    {
      "cell_type": "code",
      "metadata": {
        "id": "pTz-hYo7Nx-v",
        "colab": {
          "base_uri": "https://localhost:8080/"
        },
        "outputId": "902916bb-48b6-41b1-992d-3d47f0ef2d8e"
      },
      "source": [
        "# Read the full dataset\n",
        "full_df = pd.read_csv('fulldataset.csv')\n",
        "\n",
        "# Remove the timestamp, which does not have predictive importance\n",
        "full_df = full_df.drop(columns=[\"time\"])\n",
        "\n",
        "data = full_df.to_numpy()\n",
        "print (data)"
      ],
      "execution_count": null,
      "outputs": [
        {
          "output_type": "stream",
          "name": "stdout",
          "text": [
            "[[1.83684800e+06 1.90327023e+08 1.16151881e+08 ... 2.59473178e+08\n",
            "  1.00265909e+02 0.00000000e+00]\n",
            " [1.85564100e+06 1.90782590e+08 1.16159726e+08 ... 2.59522865e+08\n",
            "  1.00276024e+02 0.00000000e+00]\n",
            " [1.85637300e+06 1.90688064e+08 1.16229597e+08 ... 2.59533231e+08\n",
            "  1.00281822e+02 0.00000000e+00]\n",
            " ...\n",
            " [4.63221500e+06 1.75145145e+08 9.35510160e+07 ... 2.59453245e+08\n",
            "  1.00262788e+02 2.00000000e+00]\n",
            " [4.64478900e+06 1.75105471e+08 9.33248380e+07 ... 2.59444187e+08\n",
            "  1.00259509e+02 2.00000000e+00]\n",
            " [4.63646600e+06 1.75154689e+08 9.35143800e+07 ... 2.59458785e+08\n",
            "  1.00264199e+02 2.00000000e+00]]\n"
          ]
        }
      ]
    },
    {
      "cell_type": "code",
      "metadata": {
        "id": "kQA0mgrXZxZC",
        "colab": {
          "base_uri": "https://localhost:8080/",
          "height": 307
        },
        "outputId": "1f37ee75-9c56-46c7-d59c-05048ed93b4d"
      },
      "source": [
        "full_df.head()"
      ],
      "execution_count": null,
      "outputs": [
        {
          "output_type": "execute_result",
          "data": {
            "text/plain": [
              "   L1-dcache-load-misses  L1-dcache-loads  L1-dcache-stores  \\\n",
              "0              1836848.0      190327023.0       116151881.0   \n",
              "1              1855641.0      190782590.0       116159726.0   \n",
              "2              1856373.0      190688064.0       116229597.0   \n",
              "3              1855415.0      190785345.0       116289893.0   \n",
              "4              1844978.0      190653473.0       116246239.0   \n",
              "\n",
              "   L1-icache-load-misses  LLC-load-misses  LLC-loads  LLC-store-misses  \\\n",
              "0                31680.0            301.0   272831.0             251.0   \n",
              "1                31550.0            288.0   273045.0             259.0   \n",
              "2                30507.0            251.0   272370.0             251.0   \n",
              "3                32535.0            226.0   273049.0             251.0   \n",
              "4                31360.0            363.0   270856.0             259.0   \n",
              "\n",
              "   LLC-stores  branch-load-misses  branch-misses  ...  instructions  \\\n",
              "0    155393.0            171640.0       172007.0  ...   614259959.0   \n",
              "1    154536.0            173760.0       173161.0  ...   614006400.0   \n",
              "2    154825.0            170987.0       170923.0  ...   614749577.0   \n",
              "3    154438.0            170998.0       170960.0  ...   614927834.0   \n",
              "4    154519.0            172861.0       172986.0  ...   614366676.0   \n",
              "\n",
              "   minor-faults  node-load-misses  node-loads  node-store-misses  node-stores  \\\n",
              "0           0.0             169.0       150.0               50.0        213.0   \n",
              "1           0.0             175.0       125.0               50.0        238.0   \n",
              "2           0.0             257.0        94.0               25.0        213.0   \n",
              "3           0.0             157.0       138.0               13.0        226.0   \n",
              "4           0.0             263.0       489.0               50.0        238.0   \n",
              "\n",
              "   page-faults   ref-cycles  task-clock  label  \n",
              "0          0.0  259473178.0  100.265909      0  \n",
              "1          0.0  259522865.0  100.276024      0  \n",
              "2          0.0  259533231.0  100.281822      0  \n",
              "3          0.0  259571508.0  100.270504      0  \n",
              "4          0.0  259490859.0  100.270495      0  \n",
              "\n",
              "[5 rows x 32 columns]"
            ],
            "text/html": [
              "\n",
              "  <div id=\"df-0363546b-a522-4541-990b-0b421bdade77\" class=\"colab-df-container\">\n",
              "    <div>\n",
              "<style scoped>\n",
              "    .dataframe tbody tr th:only-of-type {\n",
              "        vertical-align: middle;\n",
              "    }\n",
              "\n",
              "    .dataframe tbody tr th {\n",
              "        vertical-align: top;\n",
              "    }\n",
              "\n",
              "    .dataframe thead th {\n",
              "        text-align: right;\n",
              "    }\n",
              "</style>\n",
              "<table border=\"1\" class=\"dataframe\">\n",
              "  <thead>\n",
              "    <tr style=\"text-align: right;\">\n",
              "      <th></th>\n",
              "      <th>L1-dcache-load-misses</th>\n",
              "      <th>L1-dcache-loads</th>\n",
              "      <th>L1-dcache-stores</th>\n",
              "      <th>L1-icache-load-misses</th>\n",
              "      <th>LLC-load-misses</th>\n",
              "      <th>LLC-loads</th>\n",
              "      <th>LLC-store-misses</th>\n",
              "      <th>LLC-stores</th>\n",
              "      <th>branch-load-misses</th>\n",
              "      <th>branch-misses</th>\n",
              "      <th>...</th>\n",
              "      <th>instructions</th>\n",
              "      <th>minor-faults</th>\n",
              "      <th>node-load-misses</th>\n",
              "      <th>node-loads</th>\n",
              "      <th>node-store-misses</th>\n",
              "      <th>node-stores</th>\n",
              "      <th>page-faults</th>\n",
              "      <th>ref-cycles</th>\n",
              "      <th>task-clock</th>\n",
              "      <th>label</th>\n",
              "    </tr>\n",
              "  </thead>\n",
              "  <tbody>\n",
              "    <tr>\n",
              "      <th>0</th>\n",
              "      <td>1836848.0</td>\n",
              "      <td>190327023.0</td>\n",
              "      <td>116151881.0</td>\n",
              "      <td>31680.0</td>\n",
              "      <td>301.0</td>\n",
              "      <td>272831.0</td>\n",
              "      <td>251.0</td>\n",
              "      <td>155393.0</td>\n",
              "      <td>171640.0</td>\n",
              "      <td>172007.0</td>\n",
              "      <td>...</td>\n",
              "      <td>614259959.0</td>\n",
              "      <td>0.0</td>\n",
              "      <td>169.0</td>\n",
              "      <td>150.0</td>\n",
              "      <td>50.0</td>\n",
              "      <td>213.0</td>\n",
              "      <td>0.0</td>\n",
              "      <td>259473178.0</td>\n",
              "      <td>100.265909</td>\n",
              "      <td>0</td>\n",
              "    </tr>\n",
              "    <tr>\n",
              "      <th>1</th>\n",
              "      <td>1855641.0</td>\n",
              "      <td>190782590.0</td>\n",
              "      <td>116159726.0</td>\n",
              "      <td>31550.0</td>\n",
              "      <td>288.0</td>\n",
              "      <td>273045.0</td>\n",
              "      <td>259.0</td>\n",
              "      <td>154536.0</td>\n",
              "      <td>173760.0</td>\n",
              "      <td>173161.0</td>\n",
              "      <td>...</td>\n",
              "      <td>614006400.0</td>\n",
              "      <td>0.0</td>\n",
              "      <td>175.0</td>\n",
              "      <td>125.0</td>\n",
              "      <td>50.0</td>\n",
              "      <td>238.0</td>\n",
              "      <td>0.0</td>\n",
              "      <td>259522865.0</td>\n",
              "      <td>100.276024</td>\n",
              "      <td>0</td>\n",
              "    </tr>\n",
              "    <tr>\n",
              "      <th>2</th>\n",
              "      <td>1856373.0</td>\n",
              "      <td>190688064.0</td>\n",
              "      <td>116229597.0</td>\n",
              "      <td>30507.0</td>\n",
              "      <td>251.0</td>\n",
              "      <td>272370.0</td>\n",
              "      <td>251.0</td>\n",
              "      <td>154825.0</td>\n",
              "      <td>170987.0</td>\n",
              "      <td>170923.0</td>\n",
              "      <td>...</td>\n",
              "      <td>614749577.0</td>\n",
              "      <td>0.0</td>\n",
              "      <td>257.0</td>\n",
              "      <td>94.0</td>\n",
              "      <td>25.0</td>\n",
              "      <td>213.0</td>\n",
              "      <td>0.0</td>\n",
              "      <td>259533231.0</td>\n",
              "      <td>100.281822</td>\n",
              "      <td>0</td>\n",
              "    </tr>\n",
              "    <tr>\n",
              "      <th>3</th>\n",
              "      <td>1855415.0</td>\n",
              "      <td>190785345.0</td>\n",
              "      <td>116289893.0</td>\n",
              "      <td>32535.0</td>\n",
              "      <td>226.0</td>\n",
              "      <td>273049.0</td>\n",
              "      <td>251.0</td>\n",
              "      <td>154438.0</td>\n",
              "      <td>170998.0</td>\n",
              "      <td>170960.0</td>\n",
              "      <td>...</td>\n",
              "      <td>614927834.0</td>\n",
              "      <td>0.0</td>\n",
              "      <td>157.0</td>\n",
              "      <td>138.0</td>\n",
              "      <td>13.0</td>\n",
              "      <td>226.0</td>\n",
              "      <td>0.0</td>\n",
              "      <td>259571508.0</td>\n",
              "      <td>100.270504</td>\n",
              "      <td>0</td>\n",
              "    </tr>\n",
              "    <tr>\n",
              "      <th>4</th>\n",
              "      <td>1844978.0</td>\n",
              "      <td>190653473.0</td>\n",
              "      <td>116246239.0</td>\n",
              "      <td>31360.0</td>\n",
              "      <td>363.0</td>\n",
              "      <td>270856.0</td>\n",
              "      <td>259.0</td>\n",
              "      <td>154519.0</td>\n",
              "      <td>172861.0</td>\n",
              "      <td>172986.0</td>\n",
              "      <td>...</td>\n",
              "      <td>614366676.0</td>\n",
              "      <td>0.0</td>\n",
              "      <td>263.0</td>\n",
              "      <td>489.0</td>\n",
              "      <td>50.0</td>\n",
              "      <td>238.0</td>\n",
              "      <td>0.0</td>\n",
              "      <td>259490859.0</td>\n",
              "      <td>100.270495</td>\n",
              "      <td>0</td>\n",
              "    </tr>\n",
              "  </tbody>\n",
              "</table>\n",
              "<p>5 rows × 32 columns</p>\n",
              "</div>\n",
              "    <div class=\"colab-df-buttons\">\n",
              "\n",
              "  <div class=\"colab-df-container\">\n",
              "    <button class=\"colab-df-convert\" onclick=\"convertToInteractive('df-0363546b-a522-4541-990b-0b421bdade77')\"\n",
              "            title=\"Convert this dataframe to an interactive table.\"\n",
              "            style=\"display:none;\">\n",
              "\n",
              "  <svg xmlns=\"http://www.w3.org/2000/svg\" height=\"24px\" viewBox=\"0 -960 960 960\">\n",
              "    <path d=\"M120-120v-720h720v720H120Zm60-500h600v-160H180v160Zm220 220h160v-160H400v160Zm0 220h160v-160H400v160ZM180-400h160v-160H180v160Zm440 0h160v-160H620v160ZM180-180h160v-160H180v160Zm440 0h160v-160H620v160Z\"/>\n",
              "  </svg>\n",
              "    </button>\n",
              "\n",
              "  <style>\n",
              "    .colab-df-container {\n",
              "      display:flex;\n",
              "      gap: 12px;\n",
              "    }\n",
              "\n",
              "    .colab-df-convert {\n",
              "      background-color: #E8F0FE;\n",
              "      border: none;\n",
              "      border-radius: 50%;\n",
              "      cursor: pointer;\n",
              "      display: none;\n",
              "      fill: #1967D2;\n",
              "      height: 32px;\n",
              "      padding: 0 0 0 0;\n",
              "      width: 32px;\n",
              "    }\n",
              "\n",
              "    .colab-df-convert:hover {\n",
              "      background-color: #E2EBFA;\n",
              "      box-shadow: 0px 1px 2px rgba(60, 64, 67, 0.3), 0px 1px 3px 1px rgba(60, 64, 67, 0.15);\n",
              "      fill: #174EA6;\n",
              "    }\n",
              "\n",
              "    .colab-df-buttons div {\n",
              "      margin-bottom: 4px;\n",
              "    }\n",
              "\n",
              "    [theme=dark] .colab-df-convert {\n",
              "      background-color: #3B4455;\n",
              "      fill: #D2E3FC;\n",
              "    }\n",
              "\n",
              "    [theme=dark] .colab-df-convert:hover {\n",
              "      background-color: #434B5C;\n",
              "      box-shadow: 0px 1px 3px 1px rgba(0, 0, 0, 0.15);\n",
              "      filter: drop-shadow(0px 1px 2px rgba(0, 0, 0, 0.3));\n",
              "      fill: #FFFFFF;\n",
              "    }\n",
              "  </style>\n",
              "\n",
              "    <script>\n",
              "      const buttonEl =\n",
              "        document.querySelector('#df-0363546b-a522-4541-990b-0b421bdade77 button.colab-df-convert');\n",
              "      buttonEl.style.display =\n",
              "        google.colab.kernel.accessAllowed ? 'block' : 'none';\n",
              "\n",
              "      async function convertToInteractive(key) {\n",
              "        const element = document.querySelector('#df-0363546b-a522-4541-990b-0b421bdade77');\n",
              "        const dataTable =\n",
              "          await google.colab.kernel.invokeFunction('convertToInteractive',\n",
              "                                                    [key], {});\n",
              "        if (!dataTable) return;\n",
              "\n",
              "        const docLinkHtml = 'Like what you see? Visit the ' +\n",
              "          '<a target=\"_blank\" href=https://colab.research.google.com/notebooks/data_table.ipynb>data table notebook</a>'\n",
              "          + ' to learn more about interactive tables.';\n",
              "        element.innerHTML = '';\n",
              "        dataTable['output_type'] = 'display_data';\n",
              "        await google.colab.output.renderOutput(dataTable, element);\n",
              "        const docLink = document.createElement('div');\n",
              "        docLink.innerHTML = docLinkHtml;\n",
              "        element.appendChild(docLink);\n",
              "      }\n",
              "    </script>\n",
              "  </div>\n",
              "\n",
              "\n",
              "<div id=\"df-92584cf1-1c48-4a55-a3cc-4dd397ab3f16\">\n",
              "  <button class=\"colab-df-quickchart\" onclick=\"quickchart('df-92584cf1-1c48-4a55-a3cc-4dd397ab3f16')\"\n",
              "            title=\"Suggest charts\"\n",
              "            style=\"display:none;\">\n",
              "\n",
              "<svg xmlns=\"http://www.w3.org/2000/svg\" height=\"24px\"viewBox=\"0 0 24 24\"\n",
              "     width=\"24px\">\n",
              "    <g>\n",
              "        <path d=\"M19 3H5c-1.1 0-2 .9-2 2v14c0 1.1.9 2 2 2h14c1.1 0 2-.9 2-2V5c0-1.1-.9-2-2-2zM9 17H7v-7h2v7zm4 0h-2V7h2v10zm4 0h-2v-4h2v4z\"/>\n",
              "    </g>\n",
              "</svg>\n",
              "  </button>\n",
              "\n",
              "<style>\n",
              "  .colab-df-quickchart {\n",
              "      --bg-color: #E8F0FE;\n",
              "      --fill-color: #1967D2;\n",
              "      --hover-bg-color: #E2EBFA;\n",
              "      --hover-fill-color: #174EA6;\n",
              "      --disabled-fill-color: #AAA;\n",
              "      --disabled-bg-color: #DDD;\n",
              "  }\n",
              "\n",
              "  [theme=dark] .colab-df-quickchart {\n",
              "      --bg-color: #3B4455;\n",
              "      --fill-color: #D2E3FC;\n",
              "      --hover-bg-color: #434B5C;\n",
              "      --hover-fill-color: #FFFFFF;\n",
              "      --disabled-bg-color: #3B4455;\n",
              "      --disabled-fill-color: #666;\n",
              "  }\n",
              "\n",
              "  .colab-df-quickchart {\n",
              "    background-color: var(--bg-color);\n",
              "    border: none;\n",
              "    border-radius: 50%;\n",
              "    cursor: pointer;\n",
              "    display: none;\n",
              "    fill: var(--fill-color);\n",
              "    height: 32px;\n",
              "    padding: 0;\n",
              "    width: 32px;\n",
              "  }\n",
              "\n",
              "  .colab-df-quickchart:hover {\n",
              "    background-color: var(--hover-bg-color);\n",
              "    box-shadow: 0 1px 2px rgba(60, 64, 67, 0.3), 0 1px 3px 1px rgba(60, 64, 67, 0.15);\n",
              "    fill: var(--button-hover-fill-color);\n",
              "  }\n",
              "\n",
              "  .colab-df-quickchart-complete:disabled,\n",
              "  .colab-df-quickchart-complete:disabled:hover {\n",
              "    background-color: var(--disabled-bg-color);\n",
              "    fill: var(--disabled-fill-color);\n",
              "    box-shadow: none;\n",
              "  }\n",
              "\n",
              "  .colab-df-spinner {\n",
              "    border: 2px solid var(--fill-color);\n",
              "    border-color: transparent;\n",
              "    border-bottom-color: var(--fill-color);\n",
              "    animation:\n",
              "      spin 1s steps(1) infinite;\n",
              "  }\n",
              "\n",
              "  @keyframes spin {\n",
              "    0% {\n",
              "      border-color: transparent;\n",
              "      border-bottom-color: var(--fill-color);\n",
              "      border-left-color: var(--fill-color);\n",
              "    }\n",
              "    20% {\n",
              "      border-color: transparent;\n",
              "      border-left-color: var(--fill-color);\n",
              "      border-top-color: var(--fill-color);\n",
              "    }\n",
              "    30% {\n",
              "      border-color: transparent;\n",
              "      border-left-color: var(--fill-color);\n",
              "      border-top-color: var(--fill-color);\n",
              "      border-right-color: var(--fill-color);\n",
              "    }\n",
              "    40% {\n",
              "      border-color: transparent;\n",
              "      border-right-color: var(--fill-color);\n",
              "      border-top-color: var(--fill-color);\n",
              "    }\n",
              "    60% {\n",
              "      border-color: transparent;\n",
              "      border-right-color: var(--fill-color);\n",
              "    }\n",
              "    80% {\n",
              "      border-color: transparent;\n",
              "      border-right-color: var(--fill-color);\n",
              "      border-bottom-color: var(--fill-color);\n",
              "    }\n",
              "    90% {\n",
              "      border-color: transparent;\n",
              "      border-bottom-color: var(--fill-color);\n",
              "    }\n",
              "  }\n",
              "</style>\n",
              "\n",
              "  <script>\n",
              "    async function quickchart(key) {\n",
              "      const quickchartButtonEl =\n",
              "        document.querySelector('#' + key + ' button');\n",
              "      quickchartButtonEl.disabled = true;  // To prevent multiple clicks.\n",
              "      quickchartButtonEl.classList.add('colab-df-spinner');\n",
              "      try {\n",
              "        const charts = await google.colab.kernel.invokeFunction(\n",
              "            'suggestCharts', [key], {});\n",
              "      } catch (error) {\n",
              "        console.error('Error during call to suggestCharts:', error);\n",
              "      }\n",
              "      quickchartButtonEl.classList.remove('colab-df-spinner');\n",
              "      quickchartButtonEl.classList.add('colab-df-quickchart-complete');\n",
              "    }\n",
              "    (() => {\n",
              "      let quickchartButtonEl =\n",
              "        document.querySelector('#df-92584cf1-1c48-4a55-a3cc-4dd397ab3f16 button');\n",
              "      quickchartButtonEl.style.display =\n",
              "        google.colab.kernel.accessAllowed ? 'block' : 'none';\n",
              "    })();\n",
              "  </script>\n",
              "</div>\n",
              "    </div>\n",
              "  </div>\n"
            ],
            "application/vnd.google.colaboratory.intrinsic+json": {
              "type": "dataframe",
              "variable_name": "full_df"
            }
          },
          "metadata": {},
          "execution_count": 5
        }
      ]
    },
    {
      "cell_type": "code",
      "metadata": {
        "id": "wdr7yrCrcl-I",
        "colab": {
          "base_uri": "https://localhost:8080/"
        },
        "outputId": "834821ee-f767-41f1-db08-691e49e58078"
      },
      "source": [
        "print(\"samples and columns\", full_df.shape)\n",
        "print(\"Possible labels \", np.unique(full_df['label']) )"
      ],
      "execution_count": null,
      "outputs": [
        {
          "output_type": "stream",
          "name": "stdout",
          "text": [
            "samples and columns (5824, 32)\n",
            "Possible labels  [0 1 2]\n"
          ]
        }
      ]
    },
    {
      "cell_type": "code",
      "metadata": {
        "id": "-GsuWyTFKez7"
      },
      "source": [
        "train, test = train_test_split(data, test_size=0.2, shuffle=True, random_state=1 )"
      ],
      "execution_count": null,
      "outputs": []
    },
    {
      "cell_type": "markdown",
      "metadata": {
        "id": "kC4hctiCcCZr"
      },
      "source": [
        "# Pre-processing\n",
        "## Full Data"
      ]
    },
    {
      "cell_type": "code",
      "source": [
        "# Read the full dataset\n",
        "full_df = pd.read_csv('fulldataset.csv')\n",
        "\n",
        "# Remove the timestamp, which does not have predictive importance\n",
        "full_df = full_df.drop(columns=[\"time\"])\n",
        "\n",
        "data = full_df.to_numpy()"
      ],
      "metadata": {
        "id": "lqTvDUbpikpe"
      },
      "execution_count": null,
      "outputs": []
    },
    {
      "cell_type": "code",
      "source": [
        "train, test = train_test_split(data, test_size=0.2, shuffle=True, random_state=1 )"
      ],
      "metadata": {
        "id": "0pa-ampRilVC"
      },
      "execution_count": null,
      "outputs": []
    },
    {
      "cell_type": "code",
      "metadata": {
        "id": "Bvw0Rj_WNx_G"
      },
      "source": [
        "# We separate the last column in\n",
        "train_x, train_y = np.hsplit(train, [train.shape[1] - 1])\n",
        "train_y = train_y.reshape(-1).astype(int)\n",
        "\n",
        "test_x, test_y = np.hsplit(test, [test.shape[1] - 1])\n",
        "test_y = test_y.reshape(-1).astype(int)"
      ],
      "execution_count": null,
      "outputs": []
    },
    {
      "cell_type": "markdown",
      "metadata": {
        "id": "mG3QQz4icEsJ"
      },
      "source": [
        "We apply Min-Max scaler. In this code we do it by hand, but we could have done it also by directly using `sklearn.preprocessing.MinMaxScaler`."
      ]
    },
    {
      "cell_type": "code",
      "metadata": {
        "id": "4b-YT34ENx_M"
      },
      "source": [
        "min = train_x.min(axis=0)\n",
        "max = train_x.max(axis=0)\n",
        "\n",
        "train_x = (train_x - min)/(max - min)\n",
        "test_x = (test_x - min)/(max - min)"
      ],
      "execution_count": null,
      "outputs": []
    },
    {
      "cell_type": "markdown",
      "metadata": {
        "id": "C4DLhKZnKxxD"
      },
      "source": [
        "# Google Drive"
      ]
    },
    {
      "cell_type": "markdown",
      "metadata": {
        "id": "WkrrtK8jPlvd"
      },
      "source": [
        "Use the following code (modify it with the names of your folders) to attach your google drive, where you will store your models, to be used later in the testbed notebook."
      ]
    },
    {
      "cell_type": "code",
      "metadata": {
        "id": "f8SLPKQ6PIhI",
        "colab": {
          "base_uri": "https://localhost:8080/"
        },
        "outputId": "7622a483-2b3d-44c8-8077-f0e11d64c91c"
      },
      "source": [
        "mount_point = '/content/gdrive' # Always the same, don't change it\n",
        "drive.mount(mount_point, force_remount=True)\n",
        "drive_path = mount_point + '/My Drive/' # Always the same, don't change it\n",
        "\n",
        "# Replace the following folder with some folder inside your google drive\n",
        "my_path = drive_path + \\\n",
        "  'tsp/teaching/data-science-for-networks/img-from-code/09.highspeed-net/'"
      ],
      "execution_count": null,
      "outputs": [
        {
          "output_type": "stream",
          "name": "stdout",
          "text": [
            "Mounted at /content/gdrive\n"
          ]
        }
      ]
    },
    {
      "cell_type": "markdown",
      "source": [
        "#Logistic Regression"
      ],
      "metadata": {
        "id": "_iMimpzUjnBq"
      }
    },
    {
      "cell_type": "code",
      "source": [
        "import time\n",
        "logistic_reg_acc = []\n",
        "logistic_reg_prec = []\n",
        "training_duration = []\n",
        "execution_duration = []\n",
        "for i in range(100):\n",
        "  start_time = time.time()  # Record the start time\n",
        "  model = LogisticRegression(multi_class=\"multinomial\", solver=\"lbfgs\", max_iter=600)\n",
        "  model.fit(train_x, train_y)\n",
        "  end_time = time.time()  # Record the end time\n",
        "\n",
        "  training_duration.append(end_time - start_time )  # Append the duration to the list\n",
        "\n",
        "  start = time.time()\n",
        "  y_pred = model.predict(test_x)\n",
        "  end = time.time()\n",
        "  execution_duration.append(end-start)\n",
        "\n",
        "  class_names = np.array([\"low\", \"mid\", \"high\"] )\n",
        "  #plot_conf_mat(test_y, y_pred, class_names)\n",
        "  accuracy = accuracy_score(test_y, y_pred)\n",
        "  precision = precision_score(test_y, y_pred, average='weighted')\n",
        "\n",
        "\n",
        "  logistic_reg_acc.append(accuracy)\n",
        "  logistic_reg_prec.append(precision)"
      ],
      "metadata": {
        "id": "GVhsCLMdjoOx"
      },
      "execution_count": null,
      "outputs": []
    },
    {
      "cell_type": "code",
      "source": [
        "# Compute the averages\n",
        "avg_training_duration = np.mean(training_duration)\n",
        "avg_execution_duration = np.mean(execution_duration)\n",
        "avg_lr_acc = np.mean(logistic_reg_acc)\n",
        "avg_lr_prec = np.mean(logistic_reg_prec)\n",
        "\n",
        "# Print the averages\n",
        "print(f\"Average Training Duration for Logistic Regression: {avg_training_duration} minutes\")\n",
        "print(f\"Average Execution Duration forLogistic Regression: {avg_execution_duration} minutes\")\n",
        "print(f\"Average Accuracy for Logistic Regression: {avg_lr_acc}\")\n",
        "print(f\"Average Precision for Logistic Regression: {avg_lr_prec}\")"
      ],
      "metadata": {
        "colab": {
          "base_uri": "https://localhost:8080/"
        },
        "id": "1hZMt1BpY_EU",
        "outputId": "c1e9a6c3-6596-4825-861a-2e48c9e1630a"
      },
      "execution_count": null,
      "outputs": [
        {
          "output_type": "stream",
          "name": "stdout",
          "text": [
            "Average Training Duration for Logistic Regression: 0.4795297884941101 minutes\n",
            "Average Execution Duration forLogistic Regression: 0.000670006275177002 minutes\n",
            "Average Accuracy for Logistic Regression: 0.8111587982832618\n",
            "Average Precision for Logistic Regression: 0.8282356765339959\n"
          ]
        }
      ]
    },
    {
      "cell_type": "markdown",
      "metadata": {
        "id": "F7xQEweVcXOB"
      },
      "source": [
        "# Decision Tree Classifier\n"
      ]
    },
    {
      "cell_type": "code",
      "source": [
        "from sklearn.metrics import accuracy_score, classification_report\n",
        "from sklearn.tree import DecisionTreeClassifier\n",
        "from sklearn.ensemble import RandomForestClassifier\n",
        "from sklearn.neighbors import KNeighborsClassifier"
      ],
      "metadata": {
        "id": "CFFqHn-wA2Ky"
      },
      "execution_count": null,
      "outputs": []
    },
    {
      "cell_type": "code",
      "metadata": {
        "id": "UQ-vga2xWok7"
      },
      "source": [
        "training_duration_dt = []\n",
        "execution_duration_dt = []\n",
        "dt_prec = []\n",
        "dt_acc = []\n",
        "\n",
        "for i in range(100):\n",
        "  start = time.time()\n",
        "  model = DecisionTreeClassifier(random_state=42)\n",
        "  # Train the model\n",
        "  model.fit(train_x, train_y)\n",
        "  end = time.time()\n",
        "\n",
        "  training_duration_dt.append(end - start)\n",
        "\n",
        "  # Evaluate the model on the test set\n",
        "  start_time = time.time()\n",
        "  y_pred_dt = model.predict(test_x)\n",
        "  end_time = time.time()\n",
        "\n",
        "  execution_duration_dt.append(end_time-start_time)\n",
        "  accuracy = accuracy_score(test_y, y_pred_dt)\n",
        "  precision = precision_score(test_y, y_pred_dt, average='weighted')\n",
        "\n",
        "\n",
        "  dt_acc.append(accuracy)\n",
        "  dt_prec.append(precision)\n",
        "\n",
        "  class_names = np.array([\"low load\", \"mid load\", \"high load\"])\n",
        "\n",
        "  #plot_conf_mat(test_y, y_pred_dt, class_names)"
      ],
      "execution_count": null,
      "outputs": []
    },
    {
      "cell_type": "code",
      "source": [
        "# Compute the averages\n",
        "avg_training_duration_dt = np.mean(training_duration_dt)\n",
        "avg_execution_duration_dt = np.mean(execution_duration_dt)\n",
        "avg_dt_acc = np.mean(dt_acc)\n",
        "avg_dt_prec = np.mean(dt_prec)\n",
        "\n",
        "# Print the averages\n",
        "print(f\"Average Training Duration for Decision Tree: {avg_training_duration_dt} minutes\")\n",
        "print(f\"Average Execution Duration for Decision Tree: {avg_execution_duration_dt} minutes\")\n",
        "print(f\"Average Accuracy for Decision Tree: {avg_dt_acc}\")\n",
        "print(f\"Average Precision for Decision Tree: {avg_dt_prec}\")"
      ],
      "metadata": {
        "colab": {
          "base_uri": "https://localhost:8080/"
        },
        "id": "O-niA4jpYkoU",
        "outputId": "be676dfb-350e-4531-ee7c-7ba730a567b1"
      },
      "execution_count": null,
      "outputs": [
        {
          "output_type": "stream",
          "name": "stdout",
          "text": [
            "Average Training Duration for Decision Tree: 0.08363003015518189 minutes\n",
            "Average Execution Duration for Decision Tree: 0.000526282787322998 minutes\n",
            "Average Accuracy for Decision Tree: 0.9896995708154503\n",
            "Average Precision for Decision Tree: 0.9897066327928008\n"
          ]
        }
      ]
    },
    {
      "cell_type": "markdown",
      "source": [
        "#Random Forest Classifier\n"
      ],
      "metadata": {
        "id": "FSnZBqyTOd4V"
      }
    },
    {
      "cell_type": "code",
      "source": [
        "training_duration_rf = []\n",
        "execution_duration_rf = []\n",
        "rf_acc = []\n",
        "rf_prec = []\n",
        "\n",
        "for i in range(100):\n",
        "  start = time.time()\n",
        "  model = RandomForestClassifier(n_estimators=100, random_state=42)\n",
        "\n",
        "  # Train the model\n",
        "  model.fit(train_x, train_y)\n",
        "  end = time.time()\n",
        "\n",
        "  training_duration_rf.append(end - start)\n",
        "\n",
        "  # Evaluate the model on the test set\n",
        "  start_time = time.time()\n",
        "  y_pred_rf = model.predict(test_x)\n",
        "  end_time = time.time()\n",
        "\n",
        "  execution_duration_rf.append(end_time-start_time)\n",
        "  accuracy = accuracy_score(test_y, y_pred_rf)\n",
        "  precision = precision_score(test_y, y_pred_rf, average='weighted')\n",
        "\n",
        "\n",
        "  rf_acc.append(accuracy)\n",
        "  rf_prec.append(precision)\n",
        "\n",
        "  class_names = np.array([\"low load\", \"mid load\", \"high load\"])\n",
        "\n",
        "  #plot_conf_mat(test_y, y_pred_rf, class_names)"
      ],
      "metadata": {
        "id": "-LKmOIiVAtgW"
      },
      "execution_count": null,
      "outputs": []
    },
    {
      "cell_type": "code",
      "source": [
        "# Compute the averages\n",
        "avg_training_duration_rf = np.mean(training_duration_rf)\n",
        "avg_execution_duration_rf = np.mean(execution_duration_rf)\n",
        "avg_rf_acc = np.mean(rf_acc)\n",
        "avg_rf_prec = np.mean(rf_prec)\n",
        "\n",
        "# Print the averages\n",
        "print(f\"Average Training Duration for Random Forest: {avg_training_duration_rf} minutes\")\n",
        "print(f\"Average Execution Duration for Random Forest: {avg_execution_duration_rf} minutes\")\n",
        "print(f\"Average Accuracy for Random Forest: {avg_rf_acc}\")\n",
        "print(f\"Average Precision for Random Forest: {avg_rf_prec}\")"
      ],
      "metadata": {
        "colab": {
          "base_uri": "https://localhost:8080/"
        },
        "id": "1gkz4nXlXnSJ",
        "outputId": "ad6fdda1-7d9d-47ab-f62f-689c7b44c667"
      },
      "execution_count": null,
      "outputs": [
        {
          "output_type": "stream",
          "name": "stdout",
          "text": [
            "Average Training Duration for Random Forest: 1.2044620251655578 minutes\n",
            "Average Execution Duration for Random Forest: 0.01779468059539795 minutes\n",
            "Average Accuracy for Random Forest: 0.9957081545064377\n",
            "Average Precision for Random Forest: 0.9957245195475382\n"
          ]
        }
      ]
    },
    {
      "cell_type": "markdown",
      "source": [
        "# SVM"
      ],
      "metadata": {
        "id": "1bKtPZZEmhoW"
      }
    },
    {
      "cell_type": "code",
      "source": [
        "from sklearn.svm import SVC\n",
        "\n",
        "training_duration_svm = []\n",
        "execution_duration_svm = []\n",
        "svm_prec = []\n",
        "svm_acc = []\n",
        "for i in range(100):\n",
        "\n",
        "  start = time.time()\n",
        "  # Build the Support Vector Machine model\n",
        "  svm_model = SVC(kernel='linear', C=3, gamma='auto')\n",
        "\n",
        "  # Train the model\n",
        "  svm_model.fit(train_x, train_y)\n",
        "  end = time.time()\n",
        "\n",
        "  training_duration_svm.append(end - start)\n",
        "\n",
        "  # Evaluate the model on the test set\n",
        "  start = time.time()\n",
        "  y_pred_svm = svm_model.predict(test_x)\n",
        "  end = time.time()\n",
        "\n",
        "  execution_duration_svm.append(end-start)\n",
        "\n",
        "  accuracy = accuracy_score(test_y, y_pred_svm)\n",
        "  precision = precision_score(test_y, y_pred_svm, average='weighted')\n",
        "\n",
        "\n",
        "  svm_acc.append(accuracy)\n",
        "  svm_prec.append(precision)\n",
        "\n",
        "\n",
        "  # Assuming class names are the same for SVM as they were for KNN\n",
        "  class_names = np.array([\"low load\", \"mid load\", \"high load\"])\n",
        "\n",
        "  #plot_conf_mat(test_y, y_pred_svm, class_names)"
      ],
      "metadata": {
        "id": "LMWg6ukFB4IC"
      },
      "execution_count": null,
      "outputs": []
    },
    {
      "cell_type": "code",
      "source": [
        "# Compute the averages\n",
        "avg_training_duration_svm = np.mean(training_duration_svm)\n",
        "avg_execution_duration_svm = np.mean(execution_duration_svm)\n",
        "avg_svm_acc = np.mean(svm_acc)\n",
        "avg_svm_prec = np.mean(svm_prec)\n",
        "\n",
        "# Print the averages\n",
        "print(f\"Average Training Duration for SVM: {avg_training_duration_svm} minutes\")\n",
        "print(f\"Average Execution Duration for SVM: {avg_execution_duration_svm} minutes\")\n",
        "print(f\"Average Accuracy for SVM: {avg_svm_acc}\")\n",
        "print(f\"Average Precision for SVM: {avg_svm_prec}\")"
      ],
      "metadata": {
        "colab": {
          "base_uri": "https://localhost:8080/"
        },
        "id": "z4k6yAATXutT",
        "outputId": "4ba2e7fe-93d7-4169-ccfc-7df3031ec9ec"
      },
      "execution_count": null,
      "outputs": [
        {
          "output_type": "stream",
          "name": "stdout",
          "text": [
            "Average Training Duration for SVM: 0.655880982875824 minutes\n",
            "Average Execution Duration for SVM: 0.10375763654708862 minutes\n",
            "Average Accuracy for SVM: 0.8145922746781113\n",
            "Average Precision for SVM: 0.8617873451976362\n"
          ]
        }
      ]
    },
    {
      "cell_type": "markdown",
      "metadata": {
        "id": "drqzhCQTW8dy"
      },
      "source": [
        "# 1st Neural Network\n",
        "\n",
        "If you use Neural Networks, in Colab do \"Runtime > Change Runtime type\" to TPU or GPU.\n",
        "\n",
        "The functions `build_model()` and `train_model(..)` are very similar to what you encountered in the [notebooks on Neural Networks](https://github.com/andreaaraldo/machine-learning-for-networks/tree/master/04.neural_networks)."
      ]
    },
    {
      "cell_type": "code",
      "metadata": {
        "id": "dqxl31dhG7bD"
      },
      "source": [
        "def make_sequential_model(sample_size, layer_sizes,\n",
        "                          hidden_activation_function=\"relu\",\n",
        "                          out_activation_function=\"softmax\",\n",
        "                          loss_fun=\"sparse_categorical_crossentropy\",\n",
        "                          learning_rate=0.01,\n",
        "                          regularization_coeff=0,\n",
        "                          metrics=['accuracy']):\n",
        "  \"\"\"\n",
        "  Makes a sequential model.\n",
        "  Parameters\n",
        "  -------------------------\n",
        "  sample_size: integer\n",
        "    The number of features of the samples\n",
        "\n",
        "  layer_sizes: list\n",
        "    List of the size of the neural network layers. For instance, if\n",
        "    layer_sizes = [8, 6, 4], the 1st layer will have 5 neurons, the 2nd 6 etc.\n",
        "    Attention: the size of the last layer (the output layer) is not arbitrary.\n",
        "    In case of monodimensional regression, it must be 1.\n",
        "    When using categorical_crossentropy, it must be the same as the number of\n",
        "    categories.\n",
        "    When using binary_crossentropy, it must be 1.\n",
        "\n",
        "  inner_activation_function: string\n",
        "    Activation function used in all layers, except the last one.\n",
        "    Ex: \"relu\"\n",
        "\n",
        "  out_activation_function: string\n",
        "    Activation function of the last layer.\n",
        "    Ex. \"softmax\"\n",
        "\n",
        "  loss_fun: string\n",
        "    The loss function we want to minimize. Ex. categorical_crossentropy\n",
        "\n",
        "  learning_rate: float\n",
        "    Ex. 0.01\n",
        "\n",
        "  regularization_coeff: float\n",
        "    Coefficient of ridge regression\n",
        "    Ex. 0.01\n",
        "\n",
        "  metrics: list of strings\n",
        "    The metrics we want to show during training. Ex. ['accuracy']\n",
        "  \"\"\"\n",
        "\n",
        "  model = Sequential()\n",
        "\n",
        "\n",
        "  # In the next code we will use `partial`, which is a function of the ptyhon\n",
        "  # library functools, which allows to define a class, identical to another\n",
        "  # class but with some different default values.\n",
        "  # In our case we define MyDenseLayer equal to the standard keras class\n",
        "  # `Dense`, which implements a simple neural network layer, specifying\n",
        "  # two default values: one for the activation function, and another for the\n",
        "  # regularization\n",
        "\n",
        "  if (regularization_coeff==0):\n",
        "    # No regularization\n",
        "    MyDenseLayer = partial(Dense, activation=hidden_activation_function)\n",
        "  else:\n",
        "    MyDenseLayer = partial(Dense, activation=hidden_activation_function,\n",
        "                         kernel_regularizer=keras.regularizers.l2(regularization_coeff))\n",
        "\n",
        "  # Add the input layer\n",
        "  model.add( MyDenseLayer(layer_sizes[0],\n",
        "                  input_dim = sample_size) )\n",
        "\n",
        "  # Add hidden layers\n",
        "  for i in range(1,len(layer_sizes)-1 ): # We iterate from the 2nd element to the penultimate\n",
        "    model.add( MyDenseLayer(layer_sizes[i]) )\n",
        "\n",
        "  # Add output layer\n",
        "  model.add( Dense(layer_sizes[-1],\n",
        "                  activation = out_activation_function) )\n",
        "\n",
        "\n",
        "  model.compile(loss=loss_fun,\n",
        "              optimizer=keras.optimizers.Adam(lr=learning_rate) ,\n",
        "              metrics=metrics)\n",
        "\n",
        "  return model\n",
        "\n",
        "\n",
        "def enforce_reproducibility(seed):\n",
        "  tf.keras.backend.clear_session()\n",
        "\n",
        "  # To know more:\n",
        "  #       https://machinelearningmastery.com/reproducible-results-neural-networks-keras/\n",
        "  random.seed(seed)\n",
        "  np.random.seed(random.randint(0,300000))\n",
        "  tf.random.set_seed(random.randint(0,300000))\n",
        "\n",
        "\n",
        "def train_model(model, nn_file, X_tr, y_tr, seed, max_epochs=1000,\n",
        "                overwrite=True, validation_split=0.2, patience=20):\n",
        "  \"\"\"\n",
        "  model: neural network model\n",
        "            It must be a compiled neural network, e.g., a model issued by the\n",
        "            function make_sequential_model(..) defined before\n",
        "\n",
        "  nn_file:  string (name of a file)\n",
        "            This file will be used to store the weights of the trained neural\n",
        "            network. Such weights are automatically stored during training\n",
        "            (thanks to the ModelCheckpoint callback (see the implementation\n",
        "            code)), so that even if the code fails in the middle of training,\n",
        "            you can resume training without starting from scratch.\n",
        "            If the file already exists, before starting training, the weights\n",
        "            in such a file will be loaded, so that we do not start training from\n",
        "            scratch, but we start already from (hopefully) good weigths.\n",
        "\n",
        "  overwrite: boolean\n",
        "            If true, the model will be built and trained from scratch,\n",
        "            indipendent of whether nn_file exists or not.\n",
        "\n",
        "  seed: integer\n",
        "\n",
        "  X_tr: matrix\n",
        "            Feature matrix of the training set\n",
        "\n",
        "  y_tr: matrix\n",
        "            True labels of the training set\n",
        "\n",
        "  max_epochs: integer\n",
        "            Training will stop after such number of epochs\n",
        "\n",
        "  validation_split: float (between 0 and 1)\n",
        "            Fraction of training dataset that will be used as validation\n",
        "\n",
        "  patience: integer\n",
        "            Training will stop if the validation loss does not improve after the\n",
        "            specified number of epochs\n",
        "  \"\"\"\n",
        "\n",
        "  enforce_reproducibility(seed)\n",
        "\n",
        "\n",
        "  # Before starting training, Keras divides (X_tr, y_tr) into a training subset\n",
        "  # and a validation subset. During iterations, Keras will do backpropagation\n",
        "  # in order to minimize the loss on the trainins subset, but it will monitor\n",
        "  # and also plot the loss on the validation subset.\n",
        "  # However, Keras always takes the first part of (X_tr, y_tr) as training\n",
        "  # subset and the second part as validation subset. This can be bad, in case\n",
        "  # the dataset has been created with a certain order (for instance all the\n",
        "  # samples with a certain characteristic first, and then all the others), as\n",
        "  # we instead need to train the neural network on a representative subset of\n",
        "  # samples. For this reason, we first shuffle the dataset\n",
        "  X_train, y_train = shuffle(X_tr, y_tr, random_state=seed)\n",
        "\n",
        "\n",
        "  ##################\n",
        "  #### CALLBACKS ###\n",
        "  ##################\n",
        "  # These functions are called at every epoch\n",
        "  plot_cb = PlotLossesKerasTF()  # Plots the loss\n",
        "  checkpoint_cb = ModelCheckpoint(nn_file) # Stores weights\n",
        "  logger_cb = CSVLogger(nn_file+'.csv', append=True) # Stores history\n",
        "                # see https://theailearner.com/2019/07/23/keras-callbacks-csvlogger/\n",
        "\n",
        "\n",
        "  # To stop early if we already converged\n",
        "  # See pagg 315-16 of [Ge19]\n",
        "  early_stop_cb = tf.keras.callbacks.EarlyStopping(verbose=1,\n",
        "      monitor='val_loss',\n",
        "     patience=patience, restore_best_weights=True)\n",
        "\n",
        "\n",
        "  if overwrite==True:\n",
        "    try:\n",
        "      os.remove(nn_file)\n",
        "    except OSError:\n",
        "      pass\n",
        "\n",
        "    try:\n",
        "      os.remove(nn_file+'.csv')\n",
        "    except OSError:\n",
        "      pass\n",
        "\n",
        "  if isfile(nn_file):\n",
        "    print(\"Loading pre-existing model\")\n",
        "    model = load_model(nn_file)\n",
        "\n",
        "  history = model.fit(X_train, y_train, epochs=max_epochs,\n",
        "                      callbacks = [plot_cb, checkpoint_cb, logger_cb, early_stop_cb],\n",
        "                      validation_split=validation_split )\n",
        "\n",
        "  return history"
      ],
      "execution_count": null,
      "outputs": []
    },
    {
      "cell_type": "code",
      "metadata": {
        "id": "Trfi6PfA28U4",
        "colab": {
          "base_uri": "https://localhost:8080/",
          "height": 959
        },
        "outputId": "9206c9b7-9b66-4202-a2e2-6113a57a0182"
      },
      "source": [
        "import time\n",
        "\n",
        "training_duration_nn = []\n",
        "execution_duration_nn = []\n",
        "nn_prec = []\n",
        "nn_acc = []\n",
        "\n",
        "for i in range(10):\n",
        "  sample_size = train_x.shape[1]\n",
        "  num_of_classes=3\n",
        "  nnfile = nn_file = my_path + f\"nn{i+1}.h5\"\n",
        "  shallow_architecture=[20, 10, 5, num_of_classes]\n",
        "\n",
        "  start = time.time()\n",
        "  model = make_sequential_model(sample_size, shallow_architecture)\n",
        "  history = train_model(model, nn_file, train_x, train_y, seed=3)\n",
        "  end = time.time()\n",
        "\n",
        "  training_duration_nn.append(end - start)\n",
        "  start_time = time.time()\n",
        "  y_pred_ = model.predict(test_x)\n",
        "  end_time = time.time()\n",
        "  execution_duration_nn.append(end_time-start_time)\n",
        "\n",
        "  y_pred = np.argmax(y_pred_, axis=1)\n",
        "#plot_conf_mat(test_y, y_pred, class_names)\n",
        "  accuracy = accuracy_score(test_y, y_pred)\n",
        "  precision = precision_score(test_y, y_pred, average='weighted')\n",
        "\n",
        "\n",
        "  nn_acc.append(accuracy)\n",
        "  nn_prec.append(precision)"
      ],
      "execution_count": null,
      "outputs": [
        {
          "output_type": "display_data",
          "data": {
            "text/plain": [
              "<Figure size 1200x800 with 2 Axes>"
            ],
            "image/png": "[encoded data removed]"
          },
          "metadata": {}
        },
        {
          "output_type": "stream",
          "name": "stdout",
          "text": [
            "accuracy\n",
            "\ttraining         \t (min:    0.474, max:    0.978, cur:    0.976)\n",
            "\tvalidation       \t (min:    0.557, max:    0.969, cur:    0.956)\n",
            "Loss\n",
            "\ttraining         \t (min:    0.050, max:    1.081, cur:    0.052)\n",
            "\tvalidation       \t (min:    0.074, max:    1.047, cur:    0.094)\n",
            "Restoring model weights from the end of the best epoch: 181.\n",
            "117/117 [==============================] - 1s 10ms/step - loss: 0.0520 - accuracy: 0.9764 - val_loss: 0.0940 - val_accuracy: 0.9560\n",
            "Epoch 201: early stopping\n",
            "37/37 [==============================] - 0s 2ms/step\n"
          ]
        }
      ]
    },
    {
      "cell_type": "code",
      "source": [
        "# Compute the averages\n",
        "avg_training_duration_nn = np.mean(training_duration_nn)\n",
        "avg_execution_duration_nn = np.mean(execution_duration_nn)\n",
        "avg_nn_acc = np.mean(nn_acc)\n",
        "avg_nn_prec = np.mean(nn_prec)\n",
        "\n",
        "# Print the averages\n",
        "print(f\"Average Training Duration for NN: {avg_training_duration_nn} minutes\")\n",
        "print(f\"Average Execution Duration for NN: {avg_execution_duration_nn} minutes\")\n",
        "print(f\"Average Accuracy for NN: {avg_nn_acc}\")\n",
        "print(f\"Average Precision for NN: {avg_nn_prec}\")"
      ],
      "metadata": {
        "colab": {
          "base_uri": "https://localhost:8080/"
        },
        "id": "H1xkGEm9YId0",
        "outputId": "483f7320-d524-423a-9ff5-e79bf9fd644e"
      },
      "execution_count": null,
      "outputs": [
        {
          "output_type": "stream",
          "name": "stdout",
          "text": [
            "Average Training Duration for NN: 234.07843301296234 minutes\n",
            "Average Execution Duration for NN: 13.671960186958312 minutes\n",
            "Average Accuracy for NN: 0.9679828326180259\n",
            "Average Precision for NN: 0.9682620273764982\n"
          ]
        }
      ]
    }
  ]
}